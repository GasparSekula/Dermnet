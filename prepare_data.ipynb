{
 "cells": [
  {
   "cell_type": "code",
   "execution_count": 16,
   "metadata": {},
   "outputs": [],
   "source": [
    "import os\n",
    "import pandas as pd\n",
    "import cv2\n",
    "import pickle"
   ]
  },
  {
   "cell_type": "code",
   "execution_count": 17,
   "metadata": {},
   "outputs": [],
   "source": [
    "TRAIN_PATH = 'C:/Users/Gaspar/Downloads/archive/train'\n",
    "TEST_PATH = 'C:/Users/Gaspar/Downloads/archive/test'"
   ]
  },
  {
   "cell_type": "code",
   "execution_count": 18,
   "metadata": {},
   "outputs": [
    {
     "data": {
      "text/plain": [
       "['Acne and Rosacea Photos',\n",
       " 'Actinic Keratosis Basal Cell Carcinoma and other Malignant Lesions',\n",
       " 'Atopic Dermatitis Photos',\n",
       " 'Bullous Disease Photos',\n",
       " 'Cellulitis Impetigo and other Bacterial Infections',\n",
       " 'Eczema Photos',\n",
       " 'Exanthems and Drug Eruptions',\n",
       " 'Hair Loss Photos Alopecia and other Hair Diseases',\n",
       " 'Herpes HPV and other STDs Photos',\n",
       " 'Light Diseases and Disorders of Pigmentation',\n",
       " 'Lupus and other Connective Tissue diseases',\n",
       " 'Melanoma Skin Cancer Nevi and Moles',\n",
       " 'Nail Fungus and other Nail Disease',\n",
       " 'Poison Ivy Photos and other Contact Dermatitis',\n",
       " 'Psoriasis pictures Lichen Planus and related diseases',\n",
       " 'Scabies Lyme Disease and other Infestations and Bites',\n",
       " 'Seborrheic Keratoses and other Benign Tumors',\n",
       " 'Systemic Disease',\n",
       " 'Tinea Ringworm Candidiasis and other Fungal Infections',\n",
       " 'Urticaria Hives',\n",
       " 'Vascular Tumors',\n",
       " 'Vasculitis Photos',\n",
       " 'Warts Molluscum and other Viral Infections']"
      ]
     },
     "execution_count": 18,
     "metadata": {},
     "output_type": "execute_result"
    }
   ],
   "source": [
    "os.listdir(TRAIN_PATH)"
   ]
  },
  {
   "cell_type": "code",
   "execution_count": 19,
   "metadata": {},
   "outputs": [],
   "source": [
    "def data_dict(path):\n",
    "    data_dict = {'image_path': [], 'target': []}\n",
    "    list_dir = os.listdir(path)\n",
    "\n",
    "    for i in list_dir:\n",
    "        path_disease = path + '/' + i\n",
    "        image_list = os.listdir(path_disease)\n",
    "        for j in image_list:\n",
    "            data_dict['image_path'].append(path_disease + '/' + j)\n",
    "            data_dict['target'].append(i)\n",
    "    data_frame = pd.DataFrame(data_dict)\n",
    "    return data_frame"
   ]
  },
  {
   "cell_type": "code",
   "execution_count": 20,
   "metadata": {},
   "outputs": [
    {
     "name": "stdout",
     "output_type": "stream",
     "text": [
      "<class 'pandas.core.frame.DataFrame'>\n",
      "RangeIndex: 15557 entries, 0 to 15556\n",
      "Data columns (total 2 columns):\n",
      " #   Column      Non-Null Count  Dtype \n",
      "---  ------      --------------  ----- \n",
      " 0   image_path  15557 non-null  object\n",
      " 1   target      15557 non-null  object\n",
      "dtypes: object(2)\n",
      "memory usage: 243.2+ KB\n"
     ]
    }
   ],
   "source": [
    "train_df = data_dict(TRAIN_PATH)\n",
    "train_df.info()"
   ]
  },
  {
   "cell_type": "code",
   "execution_count": 21,
   "metadata": {},
   "outputs": [
    {
     "data": {
      "text/html": [
       "<div>\n",
       "<style scoped>\n",
       "    .dataframe tbody tr th:only-of-type {\n",
       "        vertical-align: middle;\n",
       "    }\n",
       "\n",
       "    .dataframe tbody tr th {\n",
       "        vertical-align: top;\n",
       "    }\n",
       "\n",
       "    .dataframe thead th {\n",
       "        text-align: right;\n",
       "    }\n",
       "</style>\n",
       "<table border=\"1\" class=\"dataframe\">\n",
       "  <thead>\n",
       "    <tr style=\"text-align: right;\">\n",
       "      <th></th>\n",
       "      <th>image_path</th>\n",
       "      <th>target</th>\n",
       "    </tr>\n",
       "  </thead>\n",
       "  <tbody>\n",
       "    <tr>\n",
       "      <th>0</th>\n",
       "      <td>C:/Users/Gaspar/Downloads/archive/train/Acne a...</td>\n",
       "      <td>Acne and Rosacea Photos</td>\n",
       "    </tr>\n",
       "    <tr>\n",
       "      <th>1</th>\n",
       "      <td>C:/Users/Gaspar/Downloads/archive/train/Acne a...</td>\n",
       "      <td>Acne and Rosacea Photos</td>\n",
       "    </tr>\n",
       "    <tr>\n",
       "      <th>2</th>\n",
       "      <td>C:/Users/Gaspar/Downloads/archive/train/Acne a...</td>\n",
       "      <td>Acne and Rosacea Photos</td>\n",
       "    </tr>\n",
       "    <tr>\n",
       "      <th>3</th>\n",
       "      <td>C:/Users/Gaspar/Downloads/archive/train/Acne a...</td>\n",
       "      <td>Acne and Rosacea Photos</td>\n",
       "    </tr>\n",
       "    <tr>\n",
       "      <th>4</th>\n",
       "      <td>C:/Users/Gaspar/Downloads/archive/train/Acne a...</td>\n",
       "      <td>Acne and Rosacea Photos</td>\n",
       "    </tr>\n",
       "  </tbody>\n",
       "</table>\n",
       "</div>"
      ],
      "text/plain": [
       "                                          image_path                   target\n",
       "0  C:/Users/Gaspar/Downloads/archive/train/Acne a...  Acne and Rosacea Photos\n",
       "1  C:/Users/Gaspar/Downloads/archive/train/Acne a...  Acne and Rosacea Photos\n",
       "2  C:/Users/Gaspar/Downloads/archive/train/Acne a...  Acne and Rosacea Photos\n",
       "3  C:/Users/Gaspar/Downloads/archive/train/Acne a...  Acne and Rosacea Photos\n",
       "4  C:/Users/Gaspar/Downloads/archive/train/Acne a...  Acne and Rosacea Photos"
      ]
     },
     "execution_count": 21,
     "metadata": {},
     "output_type": "execute_result"
    }
   ],
   "source": [
    "train_df.head()"
   ]
  },
  {
   "cell_type": "code",
   "execution_count": 22,
   "metadata": {},
   "outputs": [],
   "source": [
    "def load_data(input_size=(224, 224), df = train_df):\n",
    "    images = []\n",
    "    for i in df['image_path']:\n",
    "        img = cv2.imread(i)\n",
    "        img = cv2.resize(img, input_size)\n",
    "        img = cv2.cvtColor(img, cv2.COLOR_BGR2RGB)\n",
    "        images.append(img)\n",
    "    return images"
   ]
  },
  {
   "cell_type": "code",
   "execution_count": 23,
   "metadata": {},
   "outputs": [],
   "source": [
    "X_data = load_data(df=train_df)"
   ]
  },
  {
   "cell_type": "code",
   "execution_count": 24,
   "metadata": {},
   "outputs": [],
   "source": [
    "X_data = pd.DataFrame({'image' : X_data})"
   ]
  },
  {
   "cell_type": "code",
   "execution_count": 25,
   "metadata": {},
   "outputs": [
    {
     "name": "stdout",
     "output_type": "stream",
     "text": [
      "<class 'pandas.core.frame.DataFrame'>\n",
      "RangeIndex: 15557 entries, 0 to 15556\n",
      "Data columns (total 1 columns):\n",
      " #   Column  Non-Null Count  Dtype \n",
      "---  ------  --------------  ----- \n",
      " 0   image   15557 non-null  object\n",
      "dtypes: object(1)\n",
      "memory usage: 121.7+ KB\n"
     ]
    }
   ],
   "source": [
    "X_data.info()"
   ]
  },
  {
   "cell_type": "code",
   "execution_count": 26,
   "metadata": {},
   "outputs": [
    {
     "data": {
      "text/html": [
       "<div>\n",
       "<style scoped>\n",
       "    .dataframe tbody tr th:only-of-type {\n",
       "        vertical-align: middle;\n",
       "    }\n",
       "\n",
       "    .dataframe tbody tr th {\n",
       "        vertical-align: top;\n",
       "    }\n",
       "\n",
       "    .dataframe thead th {\n",
       "        text-align: right;\n",
       "    }\n",
       "</style>\n",
       "<table border=\"1\" class=\"dataframe\">\n",
       "  <thead>\n",
       "    <tr style=\"text-align: right;\">\n",
       "      <th></th>\n",
       "      <th>image</th>\n",
       "    </tr>\n",
       "  </thead>\n",
       "  <tbody>\n",
       "    <tr>\n",
       "      <th>0</th>\n",
       "      <td>[[[155, 121, 112], [161, 126, 120], [162, 127,...</td>\n",
       "    </tr>\n",
       "  </tbody>\n",
       "</table>\n",
       "</div>"
      ],
      "text/plain": [
       "                                               image\n",
       "0  [[[155, 121, 112], [161, 126, 120], [162, 127,..."
      ]
     },
     "execution_count": 26,
     "metadata": {},
     "output_type": "execute_result"
    }
   ],
   "source": [
    "X_data.head(1)"
   ]
  },
  {
   "cell_type": "code",
   "execution_count": 27,
   "metadata": {},
   "outputs": [],
   "source": [
    "X_data.to_pickle('train_data.pkl')"
   ]
  },
  {
   "cell_type": "code",
   "execution_count": 28,
   "metadata": {},
   "outputs": [],
   "source": [
    "test_df = data_dict(TEST_PATH)\n",
    "X_test_data = load_data(df=test_df)\n",
    "X_test_data = pd.DataFrame({'image' : X_test_data})\n",
    "X_test_data.to_pickle('test_data.pkl')"
   ]
  }
 ],
 "metadata": {
  "kernelspec": {
   "display_name": "Python 3",
   "language": "python",
   "name": "python3"
  },
  "language_info": {
   "codemirror_mode": {
    "name": "ipython",
    "version": 3
   },
   "file_extension": ".py",
   "mimetype": "text/x-python",
   "name": "python",
   "nbconvert_exporter": "python",
   "pygments_lexer": "ipython3",
   "version": "3.9.12"
  }
 },
 "nbformat": 4,
 "nbformat_minor": 2
}
